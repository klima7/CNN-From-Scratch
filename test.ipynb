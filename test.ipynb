{
 "cells": [
  {
   "cell_type": "code",
   "execution_count": 1,
   "outputs": [],
   "source": [
    "%load_ext autoreload"
   ],
   "metadata": {
    "collapsed": false,
    "pycharm": {
     "name": "#%%\n"
    }
   }
  },
  {
   "cell_type": "code",
   "execution_count": 2,
   "outputs": [],
   "source": [
    "%autoreload"
   ],
   "metadata": {
    "collapsed": false,
    "pycharm": {
     "name": "#%%\n"
    }
   }
  },
  {
   "cell_type": "code",
   "execution_count": 2,
   "outputs": [],
   "source": [
    "import numpy as np\n",
    "from einops import rearrange\n",
    "\n",
    "from nn.layers import InputLayer, DenseLayer, ActivationLayer, FlattenLayer\n",
    "from nn.network import NeuralNetwork, MulticlassNNClassifier\n",
    "from nn.activations import ReLuActivation"
   ],
   "metadata": {
    "collapsed": false,
    "pycharm": {
     "name": "#%%\n"
    }
   }
  },
  {
   "cell_type": "code",
   "execution_count": 3,
   "outputs": [],
   "source": [
    "from tensorflow.keras.datasets.mnist import load_data as load_data_MNIST\n",
    "(x_train, y_train), (x_test, y_test) = load_data_MNIST()\n",
    "\n",
    "x_train = rearrange(x_train, 'i y x -> i (y x)')\n",
    "x_test = rearrange(x_test, 'i y x -> i (y x)')"
   ],
   "metadata": {
    "collapsed": false,
    "pycharm": {
     "name": "#%%\n"
    }
   }
  },
  {
   "cell_type": "code",
   "execution_count": 4,
   "outputs": [
    {
     "data": {
      "text/plain": "((60000, 784), (10000,))"
     },
     "execution_count": 4,
     "metadata": {},
     "output_type": "execute_result"
    }
   ],
   "source": [
    "x_train.shape, y_test.shape"
   ],
   "metadata": {
    "collapsed": false,
    "pycharm": {
     "name": "#%%\n"
    }
   }
  },
  {
   "cell_type": "code",
   "execution_count": 55,
   "outputs": [
    {
     "name": "stdout",
     "output_type": "stream",
     "text": [
      "InputLayer(shape: (784,))\n",
      "Shape: (784,) -> (784,)\n",
      "--------------------------------------------------\n",
      "DenseLayer(neurons_count: 30)\n",
      "Shape: (784,) -> (30,)\n",
      "--------------------------------------------------\n",
      "ActivationLayer(activation: ReLuActivation)\n",
      "Shape: (30,) -> (30,)\n",
      "--------------------------------------------------\n",
      "DenseLayer(neurons_count: 10)\n",
      "Shape: (30,) -> (10,)\n",
      "--------------------------------------------------\n",
      "ActivationLayer(activation: ReLuActivation)\n",
      "Shape: (10,) -> (10,)\n",
      "--------------------------------------------------\n"
     ]
    }
   ],
   "source": [
    "%autoreload\n",
    "layers = [\n",
    "    InputLayer((784,)),\n",
    "    DenseLayer(30),\n",
    "    ActivationLayer(ReLuActivation()),\n",
    "    DenseLayer(10),\n",
    "    ActivationLayer(ReLuActivation()),\n",
    "]\n",
    "\n",
    "model = MulticlassNNClassifier(layers, epochs=3, learning_rate=0.01)\n",
    "model.summary()"
   ],
   "metadata": {
    "collapsed": false,
    "pycharm": {
     "name": "#%%\n"
    }
   }
  },
  {
   "cell_type": "code",
   "execution_count": 56,
   "outputs": [
    {
     "name": "stderr",
     "output_type": "stream",
     "text": [
      "Epoch 1: 100%|██████████| 60000/60000 [00:03<00:00, 17286.09it/s]\n",
      "Epoch 2: 100%|██████████| 60000/60000 [00:03<00:00, 17401.39it/s]\n",
      "Epoch 3: 100%|██████████| 60000/60000 [00:03<00:00, 17396.35it/s]\n"
     ]
    }
   ],
   "source": [
    "model.fit(x_train, y_train)"
   ],
   "metadata": {
    "collapsed": false,
    "pycharm": {
     "name": "#%%\n"
    }
   }
  },
  {
   "cell_type": "code",
   "execution_count": null,
   "outputs": [],
   "source": [],
   "metadata": {
    "collapsed": false,
    "pycharm": {
     "name": "#%%\n"
    }
   }
  },
  {
   "cell_type": "code",
   "execution_count": 5,
   "outputs": [],
   "source": [
    "from tensorflow.keras.datasets.mnist import load_data as load_data_MNIST\n",
    "(x_train2, y_train2), (x_test2, y_test2) = load_data_MNIST()"
   ],
   "metadata": {
    "collapsed": false,
    "pycharm": {
     "name": "#%%\n"
    }
   }
  },
  {
   "cell_type": "code",
   "execution_count": 6,
   "outputs": [],
   "source": [
    "x_train2 = x_train2 / 255\n",
    "x_test2 = x_test2 / 255"
   ],
   "metadata": {
    "collapsed": false,
    "pycharm": {
     "name": "#%%\n"
    }
   }
  },
  {
   "cell_type": "code",
   "execution_count": 7,
   "outputs": [
    {
     "data": {
      "text/plain": "((60000, 28, 28), (10000,))"
     },
     "execution_count": 7,
     "metadata": {},
     "output_type": "execute_result"
    }
   ],
   "source": [
    "x_train2.shape, y_test2.shape"
   ],
   "metadata": {
    "collapsed": false,
    "pycharm": {
     "name": "#%%\n"
    }
   }
  },
  {
   "cell_type": "code",
   "execution_count": 8,
   "outputs": [
    {
     "name": "stdout",
     "output_type": "stream",
     "text": [
      "InputLayer(shape: (28, 28))\n",
      "Shape: (28, 28) -> (28, 28)\n",
      "--------------------------------------------------\n",
      "ActivationLayer(activation: ReLuActivation)\n",
      "Shape: (28, 28) -> (28, 28)\n",
      "--------------------------------------------------\n",
      "FlattenLayer\n",
      "Shape: (28, 28) -> (784,)\n",
      "--------------------------------------------------\n",
      "DenseLayer(neurons_count: 10)\n",
      "Shape: (784,) -> (10,)\n",
      "--------------------------------------------------\n"
     ]
    }
   ],
   "source": [
    "%autoreload\n",
    "layers2 = [\n",
    "    InputLayer((28, 28)),\n",
    "    ActivationLayer(ReLuActivation()),\n",
    "    FlattenLayer(),\n",
    "    DenseLayer(10)\n",
    "]\n",
    "\n",
    "model2 = MulticlassNNClassifier(layers2, epochs=1, learning_rate=0.01)\n",
    "model2.summary()"
   ],
   "metadata": {
    "collapsed": false,
    "pycharm": {
     "name": "#%%\n"
    }
   }
  },
  {
   "cell_type": "code",
   "execution_count": 10,
   "outputs": [
    {
     "name": "stderr",
     "output_type": "stream",
     "text": [
      "Epoch 1: 100%|██████████| 60000/60000 [00:01<00:00, 34944.67it/s]\n"
     ]
    }
   ],
   "source": [
    "model2.fit(x_train2, y_train2)"
   ],
   "metadata": {
    "collapsed": false,
    "pycharm": {
     "name": "#%%\n"
    }
   }
  },
  {
   "cell_type": "code",
   "execution_count": 11,
   "outputs": [
    {
     "data": {
      "text/plain": "array([7, 2, 1, ..., 9, 8, 6], dtype=uint8)"
     },
     "execution_count": 11,
     "metadata": {},
     "output_type": "execute_result"
    }
   ],
   "source": [
    "model2.predict(x_test2)"
   ],
   "metadata": {
    "collapsed": false,
    "pycharm": {
     "name": "#%%\n"
    }
   }
  },
  {
   "cell_type": "code",
   "execution_count": 12,
   "outputs": [
    {
     "data": {
      "text/plain": "(10000,)"
     },
     "execution_count": 12,
     "metadata": {},
     "output_type": "execute_result"
    }
   ],
   "source": [
    "y_test2.shape"
   ],
   "metadata": {
    "collapsed": false,
    "pycharm": {
     "name": "#%%\n"
    }
   }
  },
  {
   "cell_type": "code",
   "execution_count": null,
   "outputs": [],
   "source": [],
   "metadata": {
    "collapsed": false,
    "pycharm": {
     "name": "#%%\n"
    }
   }
  }
 ],
 "metadata": {
  "kernelspec": {
   "display_name": "Python 3",
   "language": "python",
   "name": "python3"
  },
  "language_info": {
   "codemirror_mode": {
    "name": "ipython",
    "version": 2
   },
   "file_extension": ".py",
   "mimetype": "text/x-python",
   "name": "python",
   "nbconvert_exporter": "python",
   "pygments_lexer": "ipython2",
   "version": "2.7.6"
  }
 },
 "nbformat": 4,
 "nbformat_minor": 0
}