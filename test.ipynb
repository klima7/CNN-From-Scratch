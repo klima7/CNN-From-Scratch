{
 "cells": [
  {
   "cell_type": "code",
   "execution_count": 12,
   "outputs": [
    {
     "name": "stdout",
     "output_type": "stream",
     "text": [
      "The autoreload extension is already loaded. To reload it, use:\n",
      "  %reload_ext autoreload\n"
     ]
    }
   ],
   "source": [
    "%load_ext autoreload"
   ],
   "metadata": {
    "collapsed": false,
    "pycharm": {
     "name": "#%%\n"
    }
   }
  },
  {
   "cell_type": "code",
   "execution_count": 13,
   "outputs": [],
   "source": [
    "%autoreload"
   ],
   "metadata": {
    "collapsed": false,
    "pycharm": {
     "name": "#%%\n"
    }
   }
  },
  {
   "cell_type": "code",
   "execution_count": 6,
   "outputs": [],
   "source": [
    "import numpy as np\n",
    "\n",
    "from nn.layers import InputLayer, DenseLayer, ActivationLayer\n",
    "from nn.network import NeuralNetwork\n",
    "from nn.activations import ReLuActivation"
   ],
   "metadata": {
    "collapsed": false,
    "pycharm": {
     "name": "#%%\n"
    }
   }
  },
  {
   "cell_type": "code",
   "execution_count": 1,
   "outputs": [],
   "source": [
    "from tensorflow.keras.datasets.mnist import load_data as load_data_MNIST\n",
    "(x_train, y_train), (x_test, y_test) = load_data_MNIST()\n",
    "\n",
    "x_train = x_train.flatten()\n",
    "x_test = x_test.flatten()"
   ],
   "metadata": {
    "collapsed": false,
    "pycharm": {
     "name": "#%%\n"
    }
   }
  },
  {
   "cell_type": "code",
   "execution_count": 3,
   "outputs": [
    {
     "data": {
      "text/plain": "((47040000,), (10000,))"
     },
     "execution_count": 3,
     "metadata": {},
     "output_type": "execute_result"
    }
   ],
   "source": [
    "x_train.shape, y_test.shape"
   ],
   "metadata": {
    "collapsed": false,
    "pycharm": {
     "name": "#%%\n"
    }
   }
  },
  {
   "cell_type": "code",
   "execution_count": 28,
   "outputs": [
    {
     "name": "stdout",
     "output_type": "stream",
     "text": [
      "output: (1024,); input: None\n",
      "output: (10,); input: (1024,)\n",
      "output: (30,); input: (10,)\n",
      "output: (30,); input: (30,)\n"
     ]
    }
   ],
   "source": [
    "%autoreload\n",
    "layers = [\n",
    "    InputLayer((32*32,)),\n",
    "    DenseLayer(10),\n",
    "    DenseLayer(30),\n",
    "    ActivationLayer(ReLuActivation()),\n",
    "]\n",
    "\n",
    "own_model = NeuralNetwork(layers, epochs=1500, learning_rate=0.01)"
   ],
   "metadata": {
    "collapsed": false,
    "pycharm": {
     "name": "#%%\n"
    }
   }
  },
  {
   "cell_type": "code",
   "execution_count": 29,
   "outputs": [
    {
     "name": "stdout",
     "output_type": "stream",
     "text": [
      "InputLayer(shape: (1024,))\n",
      "Shape: None -> (1024,)\n",
      "--------------------------------------------------\n",
      "DenseLayer(neurons_count: 10)\n",
      "Shape: (1024,) -> (10,)\n",
      "--------------------------------------------------\n",
      "DenseLayer(neurons_count: 30)\n",
      "Shape: (10,) -> (30,)\n",
      "--------------------------------------------------\n",
      "ActivationLayer(activation: ReLuActivation)\n",
      "Shape: (30,) -> (30,)\n",
      "--------------------------------------------------\n"
     ]
    }
   ],
   "source": [
    "own_model.summary()"
   ],
   "metadata": {
    "collapsed": false,
    "pycharm": {
     "name": "#%%\n"
    }
   }
  },
  {
   "cell_type": "code",
   "execution_count": null,
   "outputs": [],
   "source": [],
   "metadata": {
    "collapsed": false,
    "pycharm": {
     "name": "#%%\n"
    }
   }
  }
 ],
 "metadata": {
  "kernelspec": {
   "display_name": "Python 3",
   "language": "python",
   "name": "python3"
  },
  "language_info": {
   "codemirror_mode": {
    "name": "ipython",
    "version": 2
   },
   "file_extension": ".py",
   "mimetype": "text/x-python",
   "name": "python",
   "nbconvert_exporter": "python",
   "pygments_lexer": "ipython2",
   "version": "2.7.6"
  }
 },
 "nbformat": 4,
 "nbformat_minor": 0
}