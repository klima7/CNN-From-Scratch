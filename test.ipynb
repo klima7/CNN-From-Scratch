{
 "cells": [
  {
   "cell_type": "code",
   "execution_count": 1,
   "outputs": [],
   "source": [
    "%load_ext autoreload"
   ],
   "metadata": {
    "collapsed": false,
    "pycharm": {
     "name": "#%%\n"
    }
   }
  },
  {
   "cell_type": "code",
   "execution_count": 2,
   "outputs": [],
   "source": [
    "%autoreload"
   ],
   "metadata": {
    "collapsed": false,
    "pycharm": {
     "name": "#%%\n"
    }
   }
  },
  {
   "cell_type": "code",
   "execution_count": 27,
   "outputs": [],
   "source": [
    "import numpy as np\n",
    "from einops import rearrange\n",
    "\n",
    "from nn.layers import InputLayer, DenseLayer, ActivationLayer, FlattenLayer\n",
    "from nn.network import NeuralNetwork, MulticlassNNClassifier\n",
    "from nn.activations import ReLuActivation"
   ],
   "metadata": {
    "collapsed": false,
    "pycharm": {
     "name": "#%%\n"
    }
   }
  },
  {
   "cell_type": "code",
   "execution_count": 4,
   "outputs": [],
   "source": [
    "from tensorflow.keras.datasets.mnist import load_data as load_data_MNIST\n",
    "(x_train, y_train), (x_test, y_test) = load_data_MNIST()\n",
    "\n",
    "x_train = rearrange(x_train, 'i y x -> i (y x)')\n",
    "x_test = rearrange(x_test, 'i y x -> i (y x)')"
   ],
   "metadata": {
    "collapsed": false,
    "pycharm": {
     "name": "#%%\n"
    }
   }
  },
  {
   "cell_type": "code",
   "execution_count": 5,
   "outputs": [
    {
     "data": {
      "text/plain": "((60000, 784), (10000,))"
     },
     "execution_count": 5,
     "metadata": {},
     "output_type": "execute_result"
    }
   ],
   "source": [
    "x_train.shape, y_test.shape"
   ],
   "metadata": {
    "collapsed": false,
    "pycharm": {
     "name": "#%%\n"
    }
   }
  },
  {
   "cell_type": "code",
   "execution_count": 53,
   "outputs": [
    {
     "name": "stdout",
     "output_type": "stream",
     "text": [
      "InputLayer(shape: (784,))\n",
      "Shape: (784,) -> (784,)\n",
      "--------------------------------------------------\n",
      "DenseLayer(neurons_count: 30)\n",
      "Shape: (784,) -> (30,)\n",
      "--------------------------------------------------\n",
      "ActivationLayer(activation: ReLuActivation)\n",
      "Shape: (30,) -> (30,)\n",
      "--------------------------------------------------\n",
      "DenseLayer(neurons_count: 10)\n",
      "Shape: (30,) -> (10,)\n",
      "--------------------------------------------------\n",
      "ActivationLayer(activation: ReLuActivation)\n",
      "Shape: (10,) -> (10,)\n",
      "--------------------------------------------------\n"
     ]
    }
   ],
   "source": [
    "%autoreload\n",
    "layers = [\n",
    "    InputLayer((784,)),\n",
    "    DenseLayer(30),\n",
    "    ActivationLayer(ReLuActivation()),\n",
    "    DenseLayer(10),\n",
    "    ActivationLayer(ReLuActivation()),\n",
    "]\n",
    "\n",
    "model = MulticlassNNClassifier(layers, epochs=1, learning_rate=0.01)\n",
    "model.summary()"
   ],
   "metadata": {
    "collapsed": false,
    "pycharm": {
     "name": "#%%\n"
    }
   }
  },
  {
   "cell_type": "code",
   "execution_count": 54,
   "outputs": [
    {
     "name": "stderr",
     "output_type": "stream",
     "text": [
      "Epoch 1: 100%|██████████| 60000/60000 [00:03<00:00, 17291.08it/s]\n"
     ]
    }
   ],
   "source": [
    "model.fit(x_train, y_train)"
   ],
   "metadata": {
    "collapsed": false,
    "pycharm": {
     "name": "#%%\n"
    }
   }
  },
  {
   "cell_type": "code",
   "execution_count": null,
   "outputs": [],
   "source": [],
   "metadata": {
    "collapsed": false,
    "pycharm": {
     "name": "#%%\n"
    }
   }
  },
  {
   "cell_type": "code",
   "execution_count": 19,
   "outputs": [],
   "source": [
    "from tensorflow.keras.datasets.mnist import load_data as load_data_MNIST\n",
    "(x_train2, y_train2), (x_test2, y_test2) = load_data_MNIST()"
   ],
   "metadata": {
    "collapsed": false,
    "pycharm": {
     "name": "#%%\n"
    }
   }
  },
  {
   "cell_type": "code",
   "execution_count": 20,
   "outputs": [
    {
     "data": {
      "text/plain": "((60000, 28, 28), (10000,))"
     },
     "execution_count": 20,
     "metadata": {},
     "output_type": "execute_result"
    }
   ],
   "source": [
    "x_train2.shape, y_test2.shape"
   ],
   "metadata": {
    "collapsed": false,
    "pycharm": {
     "name": "#%%\n"
    }
   }
  },
  {
   "cell_type": "code",
   "execution_count": 29,
   "outputs": [
    {
     "name": "stdout",
     "output_type": "stream",
     "text": [
      "InputLayer(shape: (28, 28))\n",
      "Shape: (28, 28) -> (28, 28)\n",
      "--------------------------------------------------\n",
      "ActivationLayer(activation: ReLuActivation)\n",
      "Shape: (28, 28) -> (28, 28)\n",
      "--------------------------------------------------\n",
      "FlattenLayer\n",
      "Shape: (28, 28) -> (784,)\n",
      "--------------------------------------------------\n",
      "DenseLayer(neurons_count: 10)\n",
      "Shape: (784,) -> (10,)\n",
      "--------------------------------------------------\n"
     ]
    }
   ],
   "source": [
    "%autoreload\n",
    "layers2 = [\n",
    "    InputLayer((28, 28)),\n",
    "    ActivationLayer(ReLuActivation()),\n",
    "    FlattenLayer(),\n",
    "    DenseLayer(10)\n",
    "]\n",
    "\n",
    "model2 = MulticlassNNClassifier(layers2, epochs=1, learning_rate=0.01)\n",
    "model2.summary()"
   ],
   "metadata": {
    "collapsed": false,
    "pycharm": {
     "name": "#%%\n"
    }
   }
  },
  {
   "cell_type": "code",
   "execution_count": 30,
   "outputs": [
    {
     "name": "stdout",
     "output_type": "stream",
     "text": [
      "Propagate: InputLayer(shape: (28, 28))\n",
      "Propagate: ActivationLayer(activation: ReLuActivation)\n",
      "Propagate: FlattenLayer\n",
      "Propagate: DenseLayer(neurons_count: 10)\n",
      "Backpropagate: DenseLayer(neurons_count: 10)\n",
      "get next\n",
      "adjust\n",
      "(10,) (784,) (10, 784)\n"
     ]
    },
    {
     "ename": "ValueError",
     "evalue": "matmul: Input operand 1 has a mismatch in its core dimension 0, with gufunc signature (n?,k),(k,m?)->(n?,m?) (size 784 is different from 10)",
     "output_type": "error",
     "traceback": [
      "\u001B[1;31m---------------------------------------------------------------------------\u001B[0m",
      "\u001B[1;31mValueError\u001B[0m                                Traceback (most recent call last)",
      "Input \u001B[1;32mIn [30]\u001B[0m, in \u001B[0;36m<cell line: 1>\u001B[1;34m()\u001B[0m\n\u001B[1;32m----> 1\u001B[0m \u001B[43mmodel2\u001B[49m\u001B[38;5;241;43m.\u001B[39;49m\u001B[43mfit\u001B[49m\u001B[43m(\u001B[49m\u001B[43mx_train2\u001B[49m\u001B[43m,\u001B[49m\u001B[43m \u001B[49m\u001B[43my_train2\u001B[49m\u001B[43m)\u001B[49m\n",
      "File \u001B[1;32m~\\OneDrive - Politechnika Łódzka\\siium\\semestr-2\\dlf\\project\\custom-network\\nn\\network.py:98\u001B[0m, in \u001B[0;36mMulticlassNNClassifier.fit\u001B[1;34m(self, X, Y)\u001B[0m\n\u001B[0;32m     96\u001B[0m \u001B[38;5;28;01mdef\u001B[39;00m \u001B[38;5;21mfit\u001B[39m(\u001B[38;5;28mself\u001B[39m, X, Y):\n\u001B[0;32m     97\u001B[0m     encoded_Y \u001B[38;5;241m=\u001B[39m \u001B[38;5;28mself\u001B[39m\u001B[38;5;241m.\u001B[39mencoder\u001B[38;5;241m.\u001B[39mfit_transform(Y\u001B[38;5;241m.\u001B[39mreshape(\u001B[38;5;241m-\u001B[39m\u001B[38;5;241m1\u001B[39m, \u001B[38;5;241m1\u001B[39m))\u001B[38;5;241m.\u001B[39mtoarray()\n\u001B[1;32m---> 98\u001B[0m     \u001B[38;5;28;43msuper\u001B[39;49m\u001B[43m(\u001B[49m\u001B[43m)\u001B[49m\u001B[38;5;241;43m.\u001B[39;49m\u001B[43mfit\u001B[49m\u001B[43m(\u001B[49m\u001B[43mX\u001B[49m\u001B[43m,\u001B[49m\u001B[43m \u001B[49m\u001B[43mencoded_Y\u001B[49m\u001B[43m)\u001B[49m\n",
      "File \u001B[1;32m~\\OneDrive - Politechnika Łódzka\\siium\\semestr-2\\dlf\\project\\custom-network\\nn\\network.py:36\u001B[0m, in \u001B[0;36mNeuralNetwork.fit\u001B[1;34m(self, X, Y)\u001B[0m\n\u001B[0;32m     33\u001B[0m     np\u001B[38;5;241m.\u001B[39mrandom\u001B[38;5;241m.\u001B[39mseed(\u001B[38;5;28mself\u001B[39m\u001B[38;5;241m.\u001B[39mseed)\n\u001B[0;32m     35\u001B[0m \u001B[38;5;28;01mfor\u001B[39;00m i \u001B[38;5;129;01min\u001B[39;00m \u001B[38;5;28mrange\u001B[39m(\u001B[38;5;28mself\u001B[39m\u001B[38;5;241m.\u001B[39mepochs):\n\u001B[1;32m---> 36\u001B[0m     \u001B[38;5;28;43mself\u001B[39;49m\u001B[38;5;241;43m.\u001B[39;49m\u001B[43m__learn_epoch\u001B[49m\u001B[43m(\u001B[49m\u001B[43mX\u001B[49m\u001B[43m,\u001B[49m\u001B[43m \u001B[49m\u001B[43mY\u001B[49m\u001B[43m)\u001B[49m\n",
      "File \u001B[1;32m~\\OneDrive - Politechnika Łódzka\\siium\\semestr-2\\dlf\\project\\custom-network\\nn\\network.py:40\u001B[0m, in \u001B[0;36mNeuralNetwork.__learn_epoch\u001B[1;34m(self, X, Y)\u001B[0m\n\u001B[0;32m     38\u001B[0m \u001B[38;5;28;01mdef\u001B[39;00m \u001B[38;5;21m__learn_epoch\u001B[39m(\u001B[38;5;28mself\u001B[39m, X, Y):\n\u001B[0;32m     39\u001B[0m     \u001B[38;5;28;01mfor\u001B[39;00m x, y \u001B[38;5;129;01min\u001B[39;00m \u001B[38;5;28mzip\u001B[39m(X, Y):\n\u001B[1;32m---> 40\u001B[0m         \u001B[38;5;28;43mself\u001B[39;49m\u001B[38;5;241;43m.\u001B[39;49m\u001B[43m__learn_single\u001B[49m\u001B[43m(\u001B[49m\u001B[43mx\u001B[49m\u001B[43m,\u001B[49m\u001B[43m \u001B[49m\u001B[43my\u001B[49m\u001B[43m)\u001B[49m\n",
      "File \u001B[1;32m~\\OneDrive - Politechnika Łódzka\\siium\\semestr-2\\dlf\\project\\custom-network\\nn\\network.py:45\u001B[0m, in \u001B[0;36mNeuralNetwork.__learn_single\u001B[1;34m(self, x, y)\u001B[0m\n\u001B[0;32m     43\u001B[0m prediction \u001B[38;5;241m=\u001B[39m \u001B[38;5;28mself\u001B[39m\u001B[38;5;241m.\u001B[39m__propagate(x)\n\u001B[0;32m     44\u001B[0m delta \u001B[38;5;241m=\u001B[39m y \u001B[38;5;241m-\u001B[39m prediction\n\u001B[1;32m---> 45\u001B[0m \u001B[38;5;28;43mself\u001B[39;49m\u001B[38;5;241;43m.\u001B[39;49m\u001B[43m__backpropagate\u001B[49m\u001B[43m(\u001B[49m\u001B[43mdelta\u001B[49m\u001B[43m)\u001B[49m\n",
      "File \u001B[1;32m~\\OneDrive - Politechnika Łódzka\\siium\\semestr-2\\dlf\\project\\custom-network\\nn\\network.py:56\u001B[0m, in \u001B[0;36mNeuralNetwork.__backpropagate\u001B[1;34m(self, delta)\u001B[0m\n\u001B[0;32m     54\u001B[0m \u001B[38;5;28;01mfor\u001B[39;00m layer \u001B[38;5;129;01min\u001B[39;00m \u001B[38;5;28mreversed\u001B[39m(\u001B[38;5;28mself\u001B[39m\u001B[38;5;241m.\u001B[39mlayers):\n\u001B[0;32m     55\u001B[0m     \u001B[38;5;28mprint\u001B[39m(\u001B[38;5;124mf\u001B[39m\u001B[38;5;124m'\u001B[39m\u001B[38;5;124mBackpropagate: \u001B[39m\u001B[38;5;132;01m{\u001B[39;00mlayer\u001B[38;5;132;01m}\u001B[39;00m\u001B[38;5;124m'\u001B[39m)\n\u001B[1;32m---> 56\u001B[0m     delta \u001B[38;5;241m=\u001B[39m \u001B[43mlayer\u001B[49m\u001B[38;5;241;43m.\u001B[39;49m\u001B[43mbackpropagate_with_validation\u001B[49m\u001B[43m(\u001B[49m\u001B[43mdelta\u001B[49m\u001B[43m)\u001B[49m\n",
      "File \u001B[1;32m~\\OneDrive - Politechnika Łódzka\\siium\\semestr-2\\dlf\\project\\custom-network\\nn\\layers.py:45\u001B[0m, in \u001B[0;36mLayer.backpropagate_with_validation\u001B[1;34m(self, delta)\u001B[0m\n\u001B[0;32m     43\u001B[0m \u001B[38;5;28;01mif\u001B[39;00m delta\u001B[38;5;241m.\u001B[39mshape \u001B[38;5;241m!=\u001B[39m \u001B[38;5;28mself\u001B[39m\u001B[38;5;241m.\u001B[39moutput_shape:\n\u001B[0;32m     44\u001B[0m     \u001B[38;5;28;01mraise\u001B[39;00m InvalidShapeError(\u001B[38;5;124mf\u001B[39m\u001B[38;5;124m'\u001B[39m\u001B[38;5;124mArray with invalid shape passed to backpropagate method. Should be \u001B[39m\u001B[38;5;132;01m{\u001B[39;00m\u001B[38;5;28mself\u001B[39m\u001B[38;5;241m.\u001B[39moutput_shape\u001B[38;5;132;01m}\u001B[39;00m\u001B[38;5;124m, but is \u001B[39m\u001B[38;5;132;01m{\u001B[39;00mdelta\u001B[38;5;241m.\u001B[39mshape\u001B[38;5;132;01m}\u001B[39;00m\u001B[38;5;124m'\u001B[39m)\n\u001B[1;32m---> 45\u001B[0m prev_delta \u001B[38;5;241m=\u001B[39m \u001B[38;5;28;43mself\u001B[39;49m\u001B[38;5;241;43m.\u001B[39;49m\u001B[43mbackpropagate\u001B[49m\u001B[43m(\u001B[49m\u001B[43mdelta\u001B[49m\u001B[43m)\u001B[49m\n\u001B[0;32m     46\u001B[0m \u001B[38;5;28;01mif\u001B[39;00m prev_delta\u001B[38;5;241m.\u001B[39mshape \u001B[38;5;241m!=\u001B[39m \u001B[38;5;28mself\u001B[39m\u001B[38;5;241m.\u001B[39minput_shape:\n\u001B[0;32m     47\u001B[0m     \u001B[38;5;28;01mraise\u001B[39;00m InvalidShapeError(\u001B[38;5;124mf\u001B[39m\u001B[38;5;124m'\u001B[39m\u001B[38;5;124mBackpropagate method returned array with invalid shape. Should be \u001B[39m\u001B[38;5;132;01m{\u001B[39;00m\u001B[38;5;28mself\u001B[39m\u001B[38;5;241m.\u001B[39minput_shape\u001B[38;5;132;01m}\u001B[39;00m\u001B[38;5;124m, but is \u001B[39m\u001B[38;5;132;01m{\u001B[39;00mprev_delta\u001B[38;5;241m.\u001B[39mshape\u001B[38;5;132;01m}\u001B[39;00m\u001B[38;5;124m'\u001B[39m)\n",
      "File \u001B[1;32m~\\OneDrive - Politechnika Łódzka\\siium\\semestr-2\\dlf\\project\\custom-network\\nn\\layers.py:122\u001B[0m, in \u001B[0;36mDenseLayer.backpropagate\u001B[1;34m(self, delta)\u001B[0m\n\u001B[0;32m    120\u001B[0m \u001B[38;5;28;01mdef\u001B[39;00m \u001B[38;5;21mbackpropagate\u001B[39m(\u001B[38;5;28mself\u001B[39m, delta):\n\u001B[0;32m    121\u001B[0m     next_delta \u001B[38;5;241m=\u001B[39m \u001B[38;5;28mself\u001B[39m\u001B[38;5;241m.\u001B[39m__get_next_delta(delta)\n\u001B[1;32m--> 122\u001B[0m     \u001B[38;5;28;43mself\u001B[39;49m\u001B[38;5;241;43m.\u001B[39;49m\u001B[43m__adjust_weights\u001B[49m\u001B[43m(\u001B[49m\u001B[43mdelta\u001B[49m\u001B[43m)\u001B[49m\n\u001B[0;32m    123\u001B[0m     \u001B[38;5;28;01mreturn\u001B[39;00m next_delta\u001B[38;5;241m.\u001B[39mflatten()\n",
      "File \u001B[1;32m~\\OneDrive - Politechnika Łódzka\\siium\\semestr-2\\dlf\\project\\custom-network\\nn\\layers.py:128\u001B[0m, in \u001B[0;36mDenseLayer.__adjust_weights\u001B[1;34m(self, delta)\u001B[0m\n\u001B[0;32m    126\u001B[0m \u001B[38;5;28mprint\u001B[39m(\u001B[38;5;124m'\u001B[39m\u001B[38;5;124madjust\u001B[39m\u001B[38;5;124m'\u001B[39m)\n\u001B[0;32m    127\u001B[0m \u001B[38;5;28mprint\u001B[39m(delta\u001B[38;5;241m.\u001B[39mshape, \u001B[38;5;28mself\u001B[39m\u001B[38;5;241m.\u001B[39minput_data\u001B[38;5;241m.\u001B[39mshape, \u001B[38;5;28mself\u001B[39m\u001B[38;5;241m.\u001B[39mweights\u001B[38;5;241m.\u001B[39mshape)\n\u001B[1;32m--> 128\u001B[0m weights_delta \u001B[38;5;241m=\u001B[39m \u001B[38;5;28;43mself\u001B[39;49m\u001B[38;5;241;43m.\u001B[39;49m\u001B[43mnn\u001B[49m\u001B[38;5;241;43m.\u001B[39;49m\u001B[43mlearning_rate\u001B[49m\u001B[43m \u001B[49m\u001B[38;5;241;43m*\u001B[39;49m\u001B[43m \u001B[49m\u001B[43mdelta\u001B[49m\u001B[38;5;241;43m.\u001B[39;49m\u001B[43mT\u001B[49m\u001B[43m \u001B[49m\u001B[38;5;241;43m@\u001B[39;49m\u001B[43m \u001B[49m\u001B[38;5;28;43mself\u001B[39;49m\u001B[38;5;241;43m.\u001B[39;49m\u001B[43minput_data\u001B[49m\n\u001B[0;32m    129\u001B[0m \u001B[38;5;28mself\u001B[39m\u001B[38;5;241m.\u001B[39mweights \u001B[38;5;241m+\u001B[39m\u001B[38;5;241m=\u001B[39m weights_delta\n",
      "\u001B[1;31mValueError\u001B[0m: matmul: Input operand 1 has a mismatch in its core dimension 0, with gufunc signature (n?,k),(k,m?)->(n?,m?) (size 784 is different from 10)"
     ]
    }
   ],
   "source": [
    "model2.fit(x_train2, y_train2)"
   ],
   "metadata": {
    "collapsed": false,
    "pycharm": {
     "name": "#%%\n"
    }
   }
  }
 ],
 "metadata": {
  "kernelspec": {
   "display_name": "Python 3",
   "language": "python",
   "name": "python3"
  },
  "language_info": {
   "codemirror_mode": {
    "name": "ipython",
    "version": 2
   },
   "file_extension": ".py",
   "mimetype": "text/x-python",
   "name": "python",
   "nbconvert_exporter": "python",
   "pygments_lexer": "ipython2",
   "version": "2.7.6"
  }
 },
 "nbformat": 4,
 "nbformat_minor": 0
}