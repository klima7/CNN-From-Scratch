{
 "cells": [
  {
   "cell_type": "code",
   "execution_count": 1,
   "outputs": [],
   "source": [
    "%load_ext autoreload"
   ],
   "metadata": {
    "collapsed": false,
    "pycharm": {
     "name": "#%%\n"
    }
   }
  },
  {
   "cell_type": "code",
   "execution_count": 2,
   "outputs": [],
   "source": [
    "%autoreload"
   ],
   "metadata": {
    "collapsed": false,
    "pycharm": {
     "name": "#%%\n"
    }
   }
  },
  {
   "cell_type": "code",
   "execution_count": 11,
   "outputs": [],
   "source": [
    "import numpy as np\n",
    "from einops import rearrange\n",
    "from sklearn.metrics import classification_report\n",
    "\n",
    "from nn.layers import InputLayer, DenseLayer, ActivationLayer, FlattenLayer\n",
    "from nn.network import NeuralNetwork, MulticlassNNClassifier\n",
    "from nn.activations import ReLuActivation, LeakyReLuActivation"
   ],
   "metadata": {
    "collapsed": false,
    "pycharm": {
     "name": "#%%\n"
    }
   }
  },
  {
   "cell_type": "code",
   "execution_count": 3,
   "outputs": [],
   "source": [
    "from tensorflow.keras.datasets.mnist import load_data as load_data_MNIST\n",
    "(x_train, y_train), (x_test, y_test) = load_data_MNIST()\n",
    "\n",
    "x_train = rearrange(x_train, 'i y x -> i (y x)')\n",
    "x_test = rearrange(x_test, 'i y x -> i (y x)')"
   ],
   "metadata": {
    "collapsed": false,
    "pycharm": {
     "name": "#%%\n"
    }
   }
  },
  {
   "cell_type": "code",
   "execution_count": 4,
   "outputs": [
    {
     "data": {
      "text/plain": "((60000, 784), (10000,))"
     },
     "execution_count": 4,
     "metadata": {},
     "output_type": "execute_result"
    }
   ],
   "source": [
    "x_train.shape, y_test.shape"
   ],
   "metadata": {
    "collapsed": false,
    "pycharm": {
     "name": "#%%\n"
    }
   }
  },
  {
   "cell_type": "code",
   "execution_count": 18,
   "outputs": [
    {
     "name": "stdout",
     "output_type": "stream",
     "text": [
      "InputLayer(shape: (784,))\n",
      "Shape: (784,) -> (784,)\n",
      "--------------------------------------------------\n",
      "DenseLayer(neurons_count: 30)\n",
      "Shape: (784,) -> (30,)\n",
      "--------------------------------------------------\n",
      "ActivationLayer(activation: LeakyReLuActivation)\n",
      "Shape: (30,) -> (30,)\n",
      "--------------------------------------------------\n",
      "DenseLayer(neurons_count: 10)\n",
      "Shape: (30,) -> (10,)\n",
      "--------------------------------------------------\n",
      "ActivationLayer(activation: LeakyReLuActivation)\n",
      "Shape: (10,) -> (10,)\n",
      "--------------------------------------------------\n"
     ]
    }
   ],
   "source": [
    "%autoreload\n",
    "layers = [\n",
    "    InputLayer((784,)),\n",
    "    DenseLayer(30),\n",
    "    ActivationLayer(ReLuActivation()),\n",
    "    DenseLayer(10),\n",
    "    ActivationLayer(ReLuActivation()),\n",
    "]\n",
    "\n",
    "model = MulticlassNNClassifier(layers, epochs=3, learning_rate=0.01)\n",
    "model.summary()"
   ],
   "metadata": {
    "collapsed": false,
    "pycharm": {
     "name": "#%%\n"
    }
   }
  },
  {
   "cell_type": "code",
   "execution_count": 56,
   "outputs": [
    {
     "name": "stderr",
     "output_type": "stream",
     "text": [
      "Epoch 1: 100%|██████████| 60000/60000 [00:03<00:00, 17286.09it/s]\n",
      "Epoch 2: 100%|██████████| 60000/60000 [00:03<00:00, 17401.39it/s]\n",
      "Epoch 3: 100%|██████████| 60000/60000 [00:03<00:00, 17396.35it/s]\n"
     ]
    }
   ],
   "source": [
    "model.fit(x_train, y_train)"
   ],
   "metadata": {
    "collapsed": false,
    "pycharm": {
     "name": "#%%\n"
    }
   }
  },
  {
   "cell_type": "code",
   "execution_count": null,
   "outputs": [],
   "source": [],
   "metadata": {
    "collapsed": false,
    "pycharm": {
     "name": "#%%\n"
    }
   }
  },
  {
   "cell_type": "code",
   "execution_count": 5,
   "outputs": [],
   "source": [
    "from tensorflow.keras.datasets.mnist import load_data as load_data_MNIST\n",
    "(x_train2, y_train2), (x_test2, y_test2) = load_data_MNIST()"
   ],
   "metadata": {
    "collapsed": false,
    "pycharm": {
     "name": "#%%\n"
    }
   }
  },
  {
   "cell_type": "code",
   "execution_count": 6,
   "outputs": [],
   "source": [
    "x_train2 = (x_train2 / 255) - 0.5\n",
    "x_test2 = (x_test2 / 255) - 0.5"
   ],
   "metadata": {
    "collapsed": false,
    "pycharm": {
     "name": "#%%\n"
    }
   }
  },
  {
   "cell_type": "code",
   "execution_count": 7,
   "outputs": [
    {
     "data": {
      "text/plain": "((60000, 28, 28), (10000,))"
     },
     "execution_count": 7,
     "metadata": {},
     "output_type": "execute_result"
    }
   ],
   "source": [
    "x_train2.shape, y_test2.shape"
   ],
   "metadata": {
    "collapsed": false,
    "pycharm": {
     "name": "#%%\n"
    }
   }
  },
  {
   "cell_type": "code",
   "execution_count": 8,
   "outputs": [
    {
     "name": "stdout",
     "output_type": "stream",
     "text": [
      "InputLayer(shape: (28, 28))\n",
      "Shape: (28, 28) -> (28, 28)\n",
      "--------------------------------------------------\n",
      "FlattenLayer\n",
      "Shape: (28, 28) -> (784,)\n",
      "--------------------------------------------------\n",
      "DenseLayer(neurons_count: 10)\n",
      "Shape: (784,) -> (10,)\n",
      "--------------------------------------------------\n",
      "ActivationLayer(activation: LeakyReLuActivation)\n",
      "Shape: (10,) -> (10,)\n",
      "--------------------------------------------------\n",
      "DenseLayer(neurons_count: 10)\n",
      "Shape: (10,) -> (10,)\n",
      "--------------------------------------------------\n",
      "ActivationLayer(activation: LeakyReLuActivation)\n",
      "Shape: (10,) -> (10,)\n",
      "--------------------------------------------------\n"
     ]
    }
   ],
   "source": [
    "%autoreload\n",
    "layers2 = [\n",
    "    InputLayer((28, 28)),\n",
    "    FlattenLayer(),\n",
    "    DenseLayer(10),\n",
    "    ActivationLayer(LeakyReLuActivation(0.01)),\n",
    "    DenseLayer(10),\n",
    "    ActivationLayer(LeakyReLuActivation(0.01)),\n",
    "]\n",
    "\n",
    "model2 = MulticlassNNClassifier(layers2, epochs=40, learning_rate=0.01)\n",
    "model2.summary()"
   ],
   "metadata": {
    "collapsed": false,
    "pycharm": {
     "name": "#%%\n"
    }
   }
  },
  {
   "cell_type": "code",
   "execution_count": 9,
   "outputs": [
    {
     "name": "stderr",
     "output_type": "stream",
     "text": [
      "Epoch 1: 100%|██████████| 60000/60000 [00:02<00:00, 24000.00it/s]\n",
      "Epoch 2: 100%|██████████| 60000/60000 [00:02<00:00, 24086.72it/s]\n",
      "Epoch 3: 100%|██████████| 60000/60000 [00:02<00:00, 24154.59it/s]\n",
      "Epoch 4: 100%|██████████| 60000/60000 [00:02<00:00, 24067.39it/s]\n",
      "Epoch 5: 100%|██████████| 60000/60000 [00:02<00:00, 24067.39it/s]\n",
      "Epoch 6: 100%|██████████| 60000/60000 [00:02<00:00, 24009.61it/s]\n",
      "Epoch 7: 100%|██████████| 60000/60000 [00:02<00:00, 23990.41it/s]\n",
      "Epoch 8: 100%|██████████| 60000/60000 [00:02<00:00, 23971.25it/s]\n",
      "Epoch 9: 100%|██████████| 60000/60000 [00:02<00:00, 23971.24it/s]\n",
      "Epoch 10: 100%|██████████| 60000/60000 [00:02<00:00, 24106.07it/s]\n",
      "Epoch 11: 100%|██████████| 60000/60000 [00:02<00:00, 24086.75it/s]\n",
      "Epoch 12: 100%|██████████| 60000/60000 [00:02<00:00, 24106.06it/s]\n",
      "Epoch 13: 100%|██████████| 60000/60000 [00:02<00:00, 24038.45it/s]\n",
      "Epoch 14: 100%|██████████| 60000/60000 [00:02<00:00, 24028.83it/s]\n",
      "Epoch 15: 100%|██████████| 60000/60000 [00:02<00:00, 24009.62it/s]\n",
      "Epoch 16: 100%|██████████| 60000/60000 [00:02<00:00, 24028.84it/s]\n",
      "Epoch 17: 100%|██████████| 60000/60000 [00:02<00:00, 24028.83it/s]\n",
      "Epoch 18: 100%|██████████| 60000/60000 [00:02<00:00, 23968.52it/s]\n",
      "Epoch 19: 100%|██████████| 60000/60000 [00:02<00:00, 24009.62it/s]\n",
      "Epoch 20: 100%|██████████| 60000/60000 [00:02<00:00, 24038.47it/s]\n",
      "Epoch 21: 100%|██████████| 60000/60000 [00:02<00:00, 23980.82it/s]\n",
      "Epoch 22: 100%|██████████| 60000/60000 [00:02<00:00, 23809.51it/s]\n",
      "Epoch 23: 100%|██████████| 60000/60000 [00:02<00:00, 24000.00it/s]\n",
      "Epoch 24: 100%|██████████| 60000/60000 [00:02<00:00, 23942.55it/s]\n",
      "Epoch 25: 100%|██████████| 60000/60000 [00:02<00:00, 23885.34it/s]\n",
      "Epoch 26: 100%|██████████| 60000/60000 [00:02<00:00, 23913.92it/s]\n",
      "Epoch 27: 100%|██████████| 60000/60000 [00:02<00:00, 24019.20it/s]\n",
      "Epoch 28: 100%|██████████| 60000/60000 [00:02<00:00, 23894.87it/s]\n",
      "Epoch 29: 100%|██████████| 60000/60000 [00:02<00:00, 23980.80it/s]\n",
      "Epoch 30: 100%|██████████| 60000/60000 [00:02<00:00, 23942.54it/s]\n",
      "Epoch 31: 100%|██████████| 60000/60000 [00:02<00:00, 23990.42it/s]\n",
      "Epoch 32: 100%|██████████| 60000/60000 [00:02<00:00, 24028.83it/s]\n",
      "Epoch 33: 100%|██████████| 60000/60000 [00:02<00:00, 23990.41it/s]\n",
      "Epoch 34: 100%|██████████| 60000/60000 [00:02<00:00, 24106.08it/s]\n",
      "Epoch 35: 100%|██████████| 60000/60000 [00:02<00:00, 24086.71it/s]\n",
      "Epoch 36: 100%|██████████| 60000/60000 [00:02<00:00, 23856.86it/s]\n",
      "Epoch 37: 100%|██████████| 60000/60000 [00:02<00:00, 23904.37it/s]\n",
      "Epoch 38: 100%|██████████| 60000/60000 [00:02<00:00, 24019.23it/s]\n",
      "Epoch 39: 100%|██████████| 60000/60000 [00:02<00:00, 24000.00it/s]\n",
      "Epoch 40: 100%|██████████| 60000/60000 [00:02<00:00, 24086.73it/s]\n"
     ]
    }
   ],
   "source": [
    "model2.fit(x_train2, y_train2)"
   ],
   "metadata": {
    "collapsed": false,
    "pycharm": {
     "name": "#%%\n"
    }
   }
  },
  {
   "cell_type": "code",
   "execution_count": 12,
   "outputs": [],
   "source": [
    "predictions = model2.predict(x_test2)"
   ],
   "metadata": {
    "collapsed": false,
    "pycharm": {
     "name": "#%%\n"
    }
   }
  },
  {
   "cell_type": "code",
   "execution_count": 14,
   "outputs": [
    {
     "name": "stdout",
     "output_type": "stream",
     "text": [
      "              precision    recall  f1-score   support\n",
      "\n",
      "           0       0.95      0.97      0.96       980\n",
      "           1       0.94      0.97      0.96      1135\n",
      "           2       0.93      0.88      0.90      1032\n",
      "           3       0.90      0.91      0.91      1010\n",
      "           4       0.90      0.89      0.90       982\n",
      "           5       0.92      0.83      0.87       892\n",
      "           6       0.87      0.97      0.92       958\n",
      "           7       0.97      0.86      0.91      1028\n",
      "           8       0.84      0.89      0.87       974\n",
      "           9       0.86      0.89      0.88      1009\n",
      "\n",
      "    accuracy                           0.91     10000\n",
      "   macro avg       0.91      0.91      0.91     10000\n",
      "weighted avg       0.91      0.91      0.91     10000\n",
      "\n"
     ]
    }
   ],
   "source": [
    "report = classification_report(y_test2, predictions)\n",
    "print(report)"
   ],
   "metadata": {
    "collapsed": false,
    "pycharm": {
     "name": "#%%\n"
    }
   }
  }
 ],
 "metadata": {
  "kernelspec": {
   "display_name": "Python 3",
   "language": "python",
   "name": "python3"
  },
  "language_info": {
   "codemirror_mode": {
    "name": "ipython",
    "version": 2
   },
   "file_extension": ".py",
   "mimetype": "text/x-python",
   "name": "python",
   "nbconvert_exporter": "python",
   "pygments_lexer": "ipython2",
   "version": "2.7.6"
  }
 },
 "nbformat": 4,
 "nbformat_minor": 0
}