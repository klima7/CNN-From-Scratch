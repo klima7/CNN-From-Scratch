{
 "cells": [
  {
   "cell_type": "code",
   "execution_count": 1,
   "outputs": [],
   "source": [
    "%load_ext autoreload"
   ],
   "metadata": {
    "collapsed": false,
    "pycharm": {
     "name": "#%%\n"
    }
   }
  },
  {
   "cell_type": "code",
   "execution_count": 2,
   "outputs": [],
   "source": [
    "%autoreload"
   ],
   "metadata": {
    "collapsed": false,
    "pycharm": {
     "name": "#%%\n"
    }
   }
  },
  {
   "cell_type": "code",
   "execution_count": 1,
   "outputs": [],
   "source": [
    "from sklearn.metrics import classification_report\n",
    "\n",
    "from nn.layers import InputLayer, DenseLayer, ActivationLayer, FlattenLayer\n",
    "from nn.network import MulticlassNNClassifier\n",
    "from nn.activations import LeakyReLuActivation"
   ],
   "metadata": {
    "collapsed": false,
    "pycharm": {
     "name": "#%%\n"
    }
   }
  },
  {
   "cell_type": "markdown",
   "source": [
    "### Preparing data"
   ],
   "metadata": {
    "collapsed": false,
    "pycharm": {
     "name": "#%% md\n"
    }
   }
  },
  {
   "cell_type": "code",
   "execution_count": 2,
   "outputs": [],
   "source": [
    "from tensorflow.keras.datasets.mnist import load_data as load_data_MNIST\n",
    "(x_train, y_train), (x_test, y_test) = load_data_MNIST()"
   ],
   "metadata": {
    "collapsed": false,
    "pycharm": {
     "name": "#%%\n"
    }
   }
  },
  {
   "cell_type": "code",
   "execution_count": 3,
   "outputs": [],
   "source": [
    "x_train = (x_train / 255) - 0.5\n",
    "x_test = (x_test / 255) - 0.5"
   ],
   "metadata": {
    "collapsed": false,
    "pycharm": {
     "name": "#%%\n"
    }
   }
  },
  {
   "cell_type": "markdown",
   "source": [
    "### Learning"
   ],
   "metadata": {
    "collapsed": false,
    "pycharm": {
     "name": "#%% md\n"
    }
   }
  },
  {
   "cell_type": "code",
   "execution_count": 4,
   "outputs": [
    {
     "name": "stdout",
     "output_type": "stream",
     "text": [
      "InputLayer(shape: (28, 28))\n",
      "Shape: (28, 28) -> (28, 28)\n",
      "--------------------------------------------------\n",
      "FlattenLayer\n",
      "Shape: (28, 28) -> (784,)\n",
      "--------------------------------------------------\n",
      "DenseLayer(neurons_count: 10)\n",
      "Shape: (784,) -> (10,)\n",
      "--------------------------------------------------\n",
      "ActivationLayer(activation: LeakyReLuActivation)\n",
      "Shape: (10,) -> (10,)\n",
      "--------------------------------------------------\n",
      "DenseLayer(neurons_count: 10)\n",
      "Shape: (10,) -> (10,)\n",
      "--------------------------------------------------\n",
      "ActivationLayer(activation: LeakyReLuActivation)\n",
      "Shape: (10,) -> (10,)\n",
      "--------------------------------------------------\n"
     ]
    }
   ],
   "source": [
    "layers = [\n",
    "    InputLayer((28, 28)),\n",
    "    FlattenLayer(),\n",
    "    DenseLayer(10),\n",
    "    ActivationLayer(LeakyReLuActivation(0.01)),\n",
    "    DenseLayer(10),\n",
    "    ActivationLayer(LeakyReLuActivation(0.01)),\n",
    "]\n",
    "\n",
    "model = MulticlassNNClassifier(layers)\n",
    "model.summary()"
   ],
   "metadata": {
    "collapsed": false,
    "pycharm": {
     "name": "#%%\n"
    }
   }
  },
  {
   "cell_type": "code",
   "execution_count": 5,
   "outputs": [
    {
     "name": "stderr",
     "output_type": "stream",
     "text": [
      "Epoch 1: 100%|██████████| 60000/60000 [00:02<00:00, 23547.90it/s]\n",
      "Epoch 2: 100%|██████████| 60000/60000 [00:02<00:00, 23538.64it/s]\n",
      "Epoch 3: 100%|██████████| 60000/60000 [00:02<00:00, 23724.81it/s]\n",
      "Epoch 4: 100%|██████████| 60000/60000 [00:02<00:00, 23715.46it/s]\n",
      "Epoch 5: 100%|██████████| 60000/60000 [00:02<00:00, 23800.10it/s]\n",
      "Epoch 6: 100%|██████████| 60000/60000 [00:02<00:00, 23743.57it/s]\n",
      "Epoch 7: 100%|██████████| 60000/60000 [00:02<00:00, 23612.76it/s]\n",
      "Epoch 8: 100%|██████████| 60000/60000 [00:02<00:00, 23575.64it/s]\n",
      "Epoch 9: 100%|██████████| 60000/60000 [00:02<00:00, 23584.90it/s]\n",
      "Epoch 10: 100%|██████████| 60000/60000 [00:02<00:00, 23575.65it/s]\n",
      "Epoch 11: 100%|██████████| 60000/60000 [00:02<00:00, 23706.05it/s]\n",
      "Epoch 12: 100%|██████████| 60000/60000 [00:02<00:00, 23706.06it/s]\n",
      "Epoch 13: 100%|██████████| 60000/60000 [00:02<00:00, 23677.99it/s]\n",
      "Epoch 14: 100%|██████████| 60000/60000 [00:02<00:00, 23659.32it/s]\n",
      "Epoch 15: 100%|██████████| 60000/60000 [00:02<00:00, 23631.37it/s]\n",
      "Epoch 16: 100%|██████████| 60000/60000 [00:02<00:00, 23640.67it/s]\n",
      "Epoch 17: 100%|██████████| 60000/60000 [00:02<00:00, 23622.05it/s]\n",
      "Epoch 18: 100%|██████████| 60000/60000 [00:02<00:00, 23640.67it/s]\n",
      "Epoch 19: 100%|██████████| 60000/60000 [00:02<00:00, 23706.04it/s]\n",
      "Epoch 20: 100%|██████████| 60000/60000 [00:02<00:00, 23743.59it/s]\n",
      "Epoch 21: 100%|██████████| 60000/60000 [00:02<00:00, 23659.31it/s]\n",
      "Epoch 22: 100%|██████████| 60000/60000 [00:02<00:00, 23640.67it/s]\n",
      "Epoch 23: 100%|██████████| 60000/60000 [00:02<00:00, 23640.65it/s]\n",
      "Epoch 24: 100%|██████████| 60000/60000 [00:02<00:00, 23501.77it/s]\n",
      "Epoch 25: 100%|██████████| 60000/60000 [00:02<00:00, 23677.98it/s]\n",
      "Epoch 26: 100%|██████████| 60000/60000 [00:02<00:00, 23612.77it/s]\n",
      "Epoch 27: 100%|██████████| 60000/60000 [00:02<00:00, 23668.64it/s]\n",
      "Epoch 28: 100%|██████████| 60000/60000 [00:02<00:00, 23649.99it/s]\n",
      "Epoch 29: 100%|██████████| 60000/60000 [00:02<00:00, 23594.20it/s]\n",
      "Epoch 30: 100%|██████████| 60000/60000 [00:02<00:00, 23575.64it/s]\n",
      "Epoch 31: 100%|██████████| 60000/60000 [00:02<00:00, 23584.91it/s]\n",
      "Epoch 32: 100%|██████████| 60000/60000 [00:02<00:00, 23650.00it/s]\n",
      "Epoch 33: 100%|██████████| 60000/60000 [00:02<00:00, 23706.09it/s]\n",
      "Epoch 34: 100%|██████████| 60000/60000 [00:02<00:00, 23594.20it/s]\n",
      "Epoch 35: 100%|██████████| 60000/60000 [00:02<00:00, 23603.47it/s]\n",
      "Epoch 36: 100%|██████████| 60000/60000 [00:02<00:00, 23547.86it/s]\n",
      "Epoch 37: 100%|██████████| 60000/60000 [00:02<00:00, 23538.65it/s]\n",
      "Epoch 38: 100%|██████████| 60000/60000 [00:02<00:00, 23566.36it/s]\n",
      "Epoch 39: 100%|██████████| 60000/60000 [00:02<00:00, 23465.00it/s]\n",
      "Epoch 40: 100%|██████████| 60000/60000 [00:02<00:00, 23659.32it/s]\n"
     ]
    }
   ],
   "source": [
    "model.fit(x_train, y_train, epochs=40, learning_rate=0.01)"
   ],
   "metadata": {
    "collapsed": false,
    "pycharm": {
     "name": "#%%\n"
    }
   }
  },
  {
   "cell_type": "code",
   "execution_count": 6,
   "outputs": [
    {
     "name": "stdout",
     "output_type": "stream",
     "text": [
      "              precision    recall  f1-score   support\n",
      "\n",
      "           0       0.94      0.98      0.96       980\n",
      "           1       0.92      0.97      0.95      1135\n",
      "           2       0.93      0.87      0.90      1032\n",
      "           3       0.91      0.91      0.91      1010\n",
      "           4       0.90      0.89      0.89       982\n",
      "           5       0.93      0.82      0.87       892\n",
      "           6       0.89      0.96      0.93       958\n",
      "           7       0.97      0.85      0.90      1028\n",
      "           8       0.83      0.90      0.86       974\n",
      "           9       0.84      0.90      0.87      1009\n",
      "\n",
      "    accuracy                           0.90     10000\n",
      "   macro avg       0.91      0.90      0.90     10000\n",
      "weighted avg       0.91      0.90      0.90     10000\n",
      "\n"
     ]
    }
   ],
   "source": [
    "predictions = model.predict(x_test)\n",
    "report = classification_report(y_test, predictions)\n",
    "print(report)"
   ],
   "metadata": {
    "collapsed": false,
    "pycharm": {
     "name": "#%%\n"
    }
   }
  }
 ],
 "metadata": {
  "kernelspec": {
   "display_name": "Python 3",
   "language": "python",
   "name": "python3"
  },
  "language_info": {
   "codemirror_mode": {
    "name": "ipython",
    "version": 2
   },
   "file_extension": ".py",
   "mimetype": "text/x-python",
   "name": "python",
   "nbconvert_exporter": "python",
   "pygments_lexer": "ipython2",
   "version": "2.7.6"
  }
 },
 "nbformat": 4,
 "nbformat_minor": 0
}